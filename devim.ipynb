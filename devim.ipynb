{
 "cells": [
  {
   "cell_type": "markdown",
   "metadata": {},
   "source": [
    "<h1><center>Тестовое задание Devim</center></h1>\n",
    "\n",
    "[Ссылка на вакансию](https://spb.hh.ru/vacancy/41436973)\n",
    "\n",
    "### Постановка задачи\n",
    "\n",
    "Необходимо на основе предоставленных данных построить модель для предсказания\n",
    "целевой переменной. Сделать описание проделанных шагов\n",
    "* Анализ данных\n",
    "* Фильтрация\n",
    "* Преобразование переменных\n",
    "* Моделирование\n",
    "* Оценка качества модели\n",
    "Обоснование выбранной метрики качества. Подробно описать способ оценки качества\n",
    "построенной модели.\n",
    "\n",
    "### Целевая переменная\n",
    "expert(целевая переменная) - решение, которое принято по заявке (0 - одобрено, 1 - отклонено)\n",
    "\n",
    "### Переменные, характеризующие кредитную историю клиента\n",
    "\n",
    "|переменная|описание|\n",
    "|---|---|\n",
    "|closed_cred_sum|сумма, которую клиент выплатил по ранее взятым и закрытым кредитам|\n",
    "|closed_creds|количество закрытых кредитов|\n",
    "|active_cred_sum_overdue|суммарная задолженность по активным кредитам|\n",
    "|active_cred_sum|сумма всех активных кредитов|\n",
    "|active_cred_day_overdue|суммарная просрочка в днях по всем активным кредитам|\n",
    "|active_cred_max_overdue|максимальная сумма просроченной задолженности по активным кредитам|\n",
    "\n",
    "### Переменные характеризующие клиента\n",
    "\n",
    "|переменная|описание|\n",
    "|---|---|\n",
    "|age|возраст|\n",
    "|gender|пол|\n",
    "|region|регион|\n",
    "|month_income|ежемесячный доход|\n",
    "\n",
    "### Переменные, характеризующие кредит, по которому нужно сделать прогноз\n",
    "\n",
    "|переменная|описание|\n",
    "|---|---|\n",
    "|first_loan|сумма, которую клиент хочет получить в кредит (из заявки)|\n",
    "|first_days_quant|срок, на которую клиент хочет взять кредит|\n",
    "|loan_cost_all|одобренная клиенту сумма кредита|\n",
    "|order_date|дата подачи заявки на получение кредита|\n",
    "|cost_all|сумма всех выплат по одобренному кредиту|\n",
    "|order_id|id заявки|\n",
    "|client_id|id клиента|\n",
    "\n",
    "---"
   ]
  },
  {
   "cell_type": "markdown",
   "metadata": {},
   "source": [
    "### Решение"
   ]
  },
  {
   "cell_type": "markdown",
   "metadata": {},
   "source": [
    "#### 1. импорт библиотек, путь к данным"
   ]
  },
  {
   "cell_type": "code",
   "execution_count": 1,
   "metadata": {},
   "outputs": [],
   "source": [
    "import pandas as pd\n",
    "import numpy as np\n",
    "from scipy import stats\n",
    "import matplotlib.pyplot as plt\n",
    "import seaborn as sns\n",
    "plt.style.use('ggplot')\n",
    "import warnings\n",
    "warnings.filterwarnings('ignore')\n",
    "from collections import defaultdict\n",
    "from tqdm import tqdm_notebook\n",
    "import gc\n",
    "from sklearn.model_selection import train_test_split, cross_validate, StratifiedKFold\n",
    "from lightgbm import LGBMClassifier\n",
    "from scipy.stats import ks_2samp\n",
    "from sklearn.metrics import roc_auc_score, accuracy_score, f1_score, precision_score, recall_score \n",
    "from scipy import stats\n",
    "\n",
    "PATH_TO_DATA = 'data.csv'\n",
    "SEP = ';'\n",
    "SEED = 13"
   ]
  },
  {
   "cell_type": "markdown",
   "metadata": {},
   "source": [
    "#### 2. загрузка данных, приведение колонки с датой к типу datetime"
   ]
  },
  {
   "cell_type": "code",
   "execution_count": 2,
   "metadata": {},
   "outputs": [],
   "source": [
    "# загружаем данные\n",
    "df = pd.read_csv(PATH_TO_DATA, sep = SEP)\n",
    "\n",
    "# приводим колонку с датой к типу datetime\n",
    "df['order_date'] = df['order_date'].astype('datetime64')"
   ]
  },
  {
   "cell_type": "markdown",
   "metadata": {},
   "source": [
    "#### 3. первичный анализ"
   ]
  },
  {
   "cell_type": "code",
   "execution_count": 3,
   "metadata": {},
   "outputs": [
    {
     "name": "stdout",
     "output_type": "stream",
     "text": [
      "Пропущенные значения:\n",
      "\t1) у 19 клиентов отсутвует first_loan\n"
     ]
    }
   ],
   "source": [
    "print('Пропущенные значения:')\n",
    "for i, (col, nancount) in enumerate(df[df.columns[df.isna().any()]].isna().sum().items()):\n",
    "    print('\\t{}) у {} клиентов отсутвует {}'.format(i+1, nancount, col))"
   ]
  },
  {
   "cell_type": "code",
   "execution_count": 4,
   "metadata": {},
   "outputs": [],
   "source": [
    "# кредитная история\n",
    "client_credit_history_cols = ['closed_cred_sum', 'closed_creds',\\\n",
    "                        'active_cred_sum_overdue','active_cred_sum',\\\n",
    "                        'active_cred_day_overdue', 'active_cred_max_overdue']\n",
    "# характеристики клиента\n",
    "client_cols = ['age', 'gender', 'region', 'month_income']\n",
    "# характеристики кредита\n",
    "credit_cols = ['order_date', 'cost_all','order_id', 'client_id', 'expert']"
   ]
  },
  {
   "cell_type": "code",
   "execution_count": 5,
   "metadata": {},
   "outputs": [],
   "source": [
    "def _exclude_outliers(val):\n",
    "    ''' Исключает выбросы с помощью интерквартильного размаха '''\n",
    "    q25, q75 =val.quantile([.25, .75])\n",
    "    iqr = q75-q25\n",
    "    return val.between(q25-1.5*iqr, q75+1.5*iqr)"
   ]
  },
  {
   "cell_type": "code",
   "execution_count": 6,
   "metadata": {},
   "outputs": [
    {
     "name": "stdout",
     "output_type": "stream",
     "text": [
      "РАЗМАХ ЗНАЧЕНИЙ\n",
      "\n",
      "\t1) кредитная история клиента\n",
      "-------------------------------------------------------------------------\n",
      "                         минимум     максимум  число ун.зн.\n",
      "название признака                                          \n",
      "closed_cred_sum              0.0  44574209.38         25314\n",
      "closed_creds                 0.0       563.00           166\n",
      "active_cred_sum_overdue      0.0  33030999.24         20189\n",
      "active_cred_sum              0.0  22731655.24         25138\n",
      "active_cred_day_overdue      0.0     21927.00          4719\n",
      "active_cred_max_overdue      0.0  21701655.24         21721\n",
      "-------------------------------------------------------------------------\n",
      "\n",
      "\t2) характеристики клиента\n",
      "-------------------------------------------------------------------------\n",
      "                   минимум  максимум  число ун.зн.\n",
      "название признака                                 \n",
      "age                   18.0      99.0            68\n",
      "gender                 0.0       1.0             2\n",
      "region                 0.0      99.0            99\n",
      "month_income           0.0  550000.0           247\n",
      "-------------------------------------------------------------------------\n",
      "\n",
      "\t3) характеристики кредита\n",
      "-------------------------------------------------------------------------\n",
      "                               минимум             максимум  число ун.зн.\n",
      "название признака                                                        \n",
      "order_date         2017-06-26 00:00:00  2017-09-25 00:00:00            80\n",
      "cost_all                             0               238770          2561\n",
      "order_id                        695828               840692         42857\n",
      "client_id                          109               393528         40159\n",
      "expert                               0                    1             2\n",
      "-------------------------------------------------------------------------\n",
      "\n"
     ]
    }
   ],
   "source": [
    "print(str.upper('размах значений\\n'))\n",
    "for i, (name, columns_group) in enumerate(zip(('кредитная история клиента', 'характеристики клиента', 'характеристики кредита'),\\\n",
    "                                              (client_credit_history_cols, client_cols, credit_cols))):\n",
    "    tab = df[columns_group].agg({'min', 'max'}).T.rename(columns = {'min':'минимум', 'max':'максимум'})\n",
    "    tab['число ун.зн.'] = df[columns_group].nunique()\n",
    "    tab.index.name = 'название признака'\n",
    "    print('\\t{}) {}'.format(i+1, name))\n",
    "    print('-------------------------------------------------------------------------')\n",
    "    print(tab)\n",
    "    print('-------------------------------------------------------------------------\\n')"
   ]
  },
  {
   "cell_type": "code",
   "execution_count": 7,
   "metadata": {},
   "outputs": [],
   "source": [
    "# излишняя точность кредитной истории\n",
    "df.loc[:, client_credit_history_cols] = df[client_credit_history_cols].round()"
   ]
  },
  {
   "cell_type": "code",
   "execution_count": 8,
   "metadata": {},
   "outputs": [],
   "source": [
    "num_cols =['closed_cred_sum','active_cred_sum_overdue', 'age',\n",
    "           'active_cred_sum', 'active_cred_day_overdue',\n",
    "           'active_cred_max_overdue', 'month_income', 'loan_cost_all',\n",
    "           'first_days_quant', 'first_loan', 'cost_all', 'closed_creds']"
   ]
  },
  {
   "cell_type": "markdown",
   "metadata": {},
   "source": [
    "#### числовые признаки"
   ]
  },
  {
   "cell_type": "code",
   "execution_count": 9,
   "metadata": {},
   "outputs": [
    {
     "data": {
      "image/png": "[encoded data removed]",
      "text/plain": [
       "<Figure size 864x864 with 12 Axes>"
      ]
     },
     "metadata": {},
     "output_type": "display_data"
    }
   ],
   "source": [
    "df[num_cols].hist(edgecolor = 'black', alpha = .6, figsize = (12, 12));"
   ]
  },
  {
   "cell_type": "code",
   "execution_count": 10,
   "metadata": {},
   "outputs": [
    {
     "data": {
      "image/png": "[encoded data removed]",
      "text/plain": [
       "<Figure size 864x864 with 12 Axes>"
      ]
     },
     "metadata": {},
     "output_type": "display_data"
    }
   ],
   "source": [
    "df_c =df.copy()\n",
    "df_c[num_cols] = df_c[num_cols].replace({0:np.nan}).apply(np.log1p)\n",
    "df_c[num_cols].hist(edgecolor = 'black', alpha = .6, figsize = (12, 12));"
   ]
  },
  {
   "cell_type": "code",
   "execution_count": 11,
   "metadata": {},
   "outputs": [
    {
     "name": "stdout",
     "output_type": "stream",
     "text": [
      "признак                 | доля выбросов\n",
      "---------------------------------------\n",
      "closed_cred_sum         | 18.41%\n",
      "active_cred_sum_overdue | 0.00%\n",
      "age                     | 0.12%\n",
      "active_cred_sum         | 9.57%\n",
      "active_cred_day_overdue | 0.00%\n",
      "active_cred_max_overdue | 23.82%\n",
      "month_income            | 0.00%\n",
      "loan_cost_all           | 0.07%\n",
      "first_days_quant        | 6.22%\n",
      "first_loan              | 1.75%\n",
      "cost_all                | 18.49%\n",
      "closed_creds            | 0.24%\n"
     ]
    }
   ],
   "source": [
    "OUTLIER_TRESHOLD = .01\n",
    "to_exclude_outlier_cols = []\n",
    "print('{:<23} | {}'.format('признак', 'доля выбросов'))\n",
    "print('---------------------------------------')\n",
    "for col in num_cols:\n",
    "    outlier_share = 1-_exclude_outliers(df_c[col].fillna(0)).mean()    \n",
    "    print('{:<23} | {:.2%}'.format(col, outlier_share))\n",
    "    if outlier_share<OUTLIER_TRESHOLD:\n",
    "        to_exclude_outlier_cols.append(col)"
   ]
  },
  {
   "cell_type": "code",
   "execution_count": 12,
   "metadata": {},
   "outputs": [],
   "source": [
    "# удалим выбросы\n",
    "df_c = df_c[df_c[to_exclude_outlier_cols].fillna(0).apply(_exclude_outliers).all(1)]"
   ]
  },
  {
   "cell_type": "code",
   "execution_count": 13,
   "metadata": {},
   "outputs": [
    {
     "data": {
      "image/png": "[encoded data removed]",
      "text/plain": [
       "<Figure size 864x864 with 12 Axes>"
      ]
     },
     "metadata": {},
     "output_type": "display_data"
    }
   ],
   "source": [
    "# распределения после удаления выбросов\n",
    "df_c[num_cols].hist(edgecolor = 'black', color = 'green', alpha = .6, figsize = (12, 12));"
   ]
  },
  {
   "cell_type": "markdown",
   "metadata": {},
   "source": [
    "#### категориальные признаки"
   ]
  },
  {
   "cell_type": "code",
   "execution_count": 14,
   "metadata": {},
   "outputs": [
    {
     "data": {
      "image/png": "[encoded data removed]",
      "text/plain": [
       "<Figure size 504x504 with 6 Axes>"
      ]
     },
     "metadata": {},
     "output_type": "display_data"
    }
   ],
   "source": [
    "df_c_cat = df_c.drop(num_cols, 1)\n",
    "df_c_cat.hist(edgecolor = 'black', alpha = .6, figsize = (7, 7));"
   ]
  },
  {
   "cell_type": "code",
   "execution_count": 15,
   "metadata": {},
   "outputs": [],
   "source": [
    "# регион 0, похоже, является пропуском\n",
    "df_c['region'] = df_c['region'].replace({0:np.nan})"
   ]
  },
  {
   "cell_type": "code",
   "execution_count": 16,
   "metadata": {},
   "outputs": [
    {
     "data": {
      "image/png": "[encoded data removed]",
      "text/plain": [
       "<Figure size 864x864 with 20 Axes>"
      ]
     },
     "metadata": {},
     "output_type": "display_data"
    }
   ],
   "source": [
    "df_c.hist(edgecolor = 'black', alpha = .6, figsize = (12, 12), color = 'green');"
   ]
  },
  {
   "cell_type": "markdown",
   "metadata": {},
   "source": [
    "### целевая переменная"
   ]
  },
  {
   "cell_type": "code",
   "execution_count": 17,
   "metadata": {},
   "outputs": [],
   "source": [
    "# отсортируем по дате\n",
    "df_c = df_c.sort_values('order_date')"
   ]
  },
  {
   "cell_type": "code",
   "execution_count": 18,
   "metadata": {},
   "outputs": [
    {
     "data": {
      "image/png": "[encoded data removed]",
      "text/plain": [
       "<Figure size 864x288 with 2 Axes>"
      ]
     },
     "metadata": {},
     "output_type": "display_data"
    }
   ],
   "source": [
    "plt.figure(figsize = (12, 4))\n",
    "\n",
    "ax1 = plt.subplot(1, 2, 1)\n",
    "target_bar = df_c['expert'].value_counts().plot(ax = ax1, kind = 'bar', edgecolor = 'black', alpha = .7)\n",
    "plt.title('expert')\n",
    "target_bar.set_xticklabels(target_bar.get_xticklabels(), rotation = 0)\n",
    "plt.xlabel('value')\n",
    "plt.ylabel('count')\n",
    "\n",
    "ax2 = plt.subplot(1, 2, 2)\n",
    "df_c['expert'].cumsum().reset_index(drop = True).plot(ax = ax2)\n",
    "plt.title('expert\\n(накопленная сумма с течением времени)')\n",
    "plt.show()"
   ]
  },
  {
   "cell_type": "code",
   "execution_count": 19,
   "metadata": {},
   "outputs": [],
   "source": [
    "X_TR, X_HOLDOUT, Y_TR, Y_HOLDOUT = train_test_split(df_c.drop('expert', 1), df_c['expert'],\\\n",
    "                                                    stratify = df_c['expert'], test_size = .2, random_state = SEED)"
   ]
  },
  {
   "cell_type": "markdown",
   "metadata": {},
   "source": [
    "### тестируем трейн и тест выборки на идентичность распределений\n",
    "* используем парный тест колмогорова-смирнова\n",
    "* h0 - выборки взяты из одного распределения\n"
   ]
  },
  {
   "cell_type": "code",
   "execution_count": 20,
   "metadata": {
    "scrolled": false
   },
   "outputs": [
    {
     "data": {
      "application/vnd.jupyter.widget-view+json": {
       "model_id": "ff6a41c8795c4bc187ee2e8b184c7bf4",
       "version_major": 2,
       "version_minor": 0
      },
      "text/plain": [
       "HBox(children=(FloatProgress(value=0.0, max=1000.0), HTML(value='')))"
      ]
     },
     "metadata": {},
     "output_type": "display_data"
    },
    {
     "name": "stdout",
     "output_type": "stream",
     "text": [
      "\n"
     ]
    }
   ],
   "source": [
    "alpha = .05\n",
    "\n",
    "for _ in tqdm_notebook(range(1000)):\n",
    "    X_TR, X_HOLDOUT, Y_TR, Y_HOLDOUT = train_test_split(df_c.drop('expert', 1), df_c['expert'],\\\n",
    "                                                        stratify = df_c['expert'], test_size = .1, random_state = _)\n",
    "\n",
    "    results = []\n",
    "    for i, col in enumerate(X_TR.drop('order_date', 1).columns):\n",
    "        if ks_2samp(X_TR[col], X_HOLDOUT[col])[1] < alpha:\n",
    "            results.append(False)\n",
    "        else:\n",
    "            results.append(True)\n",
    "\n",
    "    all_trues = np.all(np.array(results) == True)   \n",
    "    if all_trues:\n",
    "        seed = _\n",
    "        flags = np.array(results)\n",
    "        break\n",
    "        "
   ]
  },
  {
   "cell_type": "code",
   "execution_count": 21,
   "metadata": {},
   "outputs": [],
   "source": [
    "X_TR, X_HOLDOUT, Y_TR, Y_HOLDOUT = train_test_split(df_c.drop('expert', 1), df_c['expert'],\\\n",
    "                                                    stratify = df_c['expert'], test_size = .1, random_state = seed)"
   ]
  },
  {
   "cell_type": "code",
   "execution_count": 22,
   "metadata": {},
   "outputs": [],
   "source": [
    "from sklearn.model_selection import RepeatedStratifiedKFold\n",
    "from sklearn.metrics import roc_auc_score\n",
    "lgb_clf = LGBMClassifier(random_state =SEED)\n",
    "\n",
    "nsplits, nrepeats = 5, 1\n",
    "nfolds = nsplits*nrepeats\n",
    "rskf5 = RepeatedStratifiedKFold(n_splits=nsplits, n_repeats=nrepeats, random_state = SEED)"
   ]
  },
  {
   "cell_type": "code",
   "execution_count": 23,
   "metadata": {},
   "outputs": [],
   "source": [
    "X_TR['month'] = X_TR['order_date'].dt.month\n",
    "X_TR['day'] =X_TR['order_date'].dt.day\n",
    "X_TR['dayofweek'] = X_TR['order_date'].dt.dayofweek\n",
    "\n",
    "X_HOLDOUT['month'] = X_HOLDOUT['order_date'].dt.month\n",
    "X_HOLDOUT['day'] =X_HOLDOUT['order_date'].dt.day\n",
    "X_HOLDOUT['dayofweek'] = X_HOLDOUT['order_date'].dt.dayofweek\n",
    "\n",
    "df_c['month'] = df_c['order_date'].dt.month\n",
    "df_c['day'] =df_c['order_date'].dt.day\n",
    "df_c['dayofweek'] = df_c['order_date'].dt.dayofweek"
   ]
  },
  {
   "cell_type": "code",
   "execution_count": 24,
   "metadata": {},
   "outputs": [],
   "source": [
    "X_TR = X_TR.drop('order_date', 1)\n",
    "X_HOLDOUT = X_HOLDOUT.drop('order_date', 1)\n",
    "df_c = df_c.drop('order_date', 1)"
   ]
  },
  {
   "cell_type": "code",
   "execution_count": 25,
   "metadata": {},
   "outputs": [],
   "source": [
    "def _select_features(clf, _xtr, _ytr, cv, metric):\n",
    "    \n",
    "    '''\n",
    "    Отбирает признаки \n",
    "    \n",
    "    Параметры:\n",
    "        1) clf - модель\n",
    "        2) _xtr - признаки\n",
    "        3) _ytr - таргет\n",
    "        4) cv - схема валидации\n",
    "    \n",
    "    Возвращает:\n",
    "        лучшее значение метрики, лучший набор признаков\n",
    "    '''\n",
    "    \n",
    "    xtr, ytr = np.array(_xtr), np.array(_ytr)\n",
    "    # валидируем каждый признак\n",
    "    scores = []\n",
    "    for i in tqdm_notebook(range(xtr.shape[1])):\n",
    "        scores.append(cross_validate(clf, xtr[:, i].reshape(-1,1),\\\n",
    "                                     ytr, scoring =metric, cv = cv)['test_score'].mean())\n",
    "    # сортируем индивидуальные скоры в порядке убывания\n",
    "    order = np.argsort(scores)[::-1]\n",
    "    # лучший скор, лучшие признаки, признаки для проверки, счетчик ранней остановки\n",
    "    best_score, best_features, to_drop = .5, [], []\n",
    "    # по признакам в порядке убывания индивидуальных скоров\n",
    "    for i in tqdm_notebook(order):\n",
    "        # добавляем признак в список лучших\n",
    "        current_features = best_features+[i]\n",
    "        # считаем валидацю\n",
    "        mean_score = cross_validate(clf, xtr[:, current_features],\\\n",
    "                                     ytr, scoring =metric, cv = cv)['test_score'].mean()\n",
    "        # если есть улучшение\n",
    "        if mean_score > best_score:\n",
    "            # обновляем лучший скор\n",
    "            best_score = mean_score\n",
    "            # обновляем лучшие признаки\n",
    "            best_features = current_features            \n",
    "        # если улчшения нет\n",
    "        else:\n",
    "            # добавляем признак в кандидаты на удаление\n",
    "            to_drop.append(i)\n",
    "            \n",
    "    # списки на удаление признаков ДО и ПОСЛЕ отбора\n",
    "    to_drop_before = to_drop\n",
    "    to_drop_after = []\n",
    "    # запускаем бесконечный цикл\n",
    "    while True:\n",
    "        # добавляем последовательно признаки из кандидатов на удаление\n",
    "        for i in tqdm_notebook(to_drop_before):\n",
    "            current_features = best_features+[i]\n",
    "            mean_score = cross_validate(clf, xtr[:, current_features],\\\n",
    "                                     ytr, scoring =metric, cv = cv)['test_score'].mean()\n",
    "            # если есть улучшение скора\n",
    "            if mean_score > best_score:\n",
    "                # обновляем лучший скор\n",
    "                best_score = mean_score\n",
    "                # обновляем лучшие признаки\n",
    "                best_features = current_features            \n",
    "            else:\n",
    "                # добавляем признак в кандидаты на удаление ПОСЛЕ\n",
    "                to_drop_after.append(i)\n",
    "        # если списки ДО и ПОСЛЕ отличаются меньше, чем на 5 признаков \n",
    "        if len(to_drop_before) == len(to_drop_after):\n",
    "            # останавливаем отбор\n",
    "            break            \n",
    "        else:\n",
    "            # ДО --> ПОСЛЕ, ПОСЛЕ - пустой\n",
    "            to_drop_before = to_drop_after\n",
    "            to_drop_after = []\n",
    "            \n",
    "            \n",
    "    return (best_score, best_features)"
   ]
  },
  {
   "cell_type": "code",
   "execution_count": 26,
   "metadata": {},
   "outputs": [
    {
     "data": {
      "application/vnd.jupyter.widget-view+json": {
       "model_id": "e0c839ed91b4442f85dc7929d25d6a20",
       "version_major": 2,
       "version_minor": 0
      },
      "text/plain": [
       "HBox(children=(FloatProgress(value=0.0, max=5.0), HTML(value='')))"
      ]
     },
     "metadata": {},
     "output_type": "display_data"
    },
    {
     "data": {
      "application/vnd.jupyter.widget-view+json": {
       "model_id": "8c6457eafd81402e82327437f874a857",
       "version_major": 2,
       "version_minor": 0
      },
      "text/plain": [
       "HBox(children=(FloatProgress(value=0.0, max=19.0), HTML(value='')))"
      ]
     },
     "metadata": {},
     "output_type": "display_data"
    },
    {
     "name": "stdout",
     "output_type": "stream",
     "text": [
      "\n"
     ]
    },
    {
     "data": {
      "application/vnd.jupyter.widget-view+json": {
       "model_id": "ec7ac79abead43519ee4680ec1532729",
       "version_major": 2,
       "version_minor": 0
      },
      "text/plain": [
       "HBox(children=(FloatProgress(value=0.0, max=19.0), HTML(value='')))"
      ]
     },
     "metadata": {},
     "output_type": "display_data"
    },
    {
     "name": "stdout",
     "output_type": "stream",
     "text": [
      "\n"
     ]
    },
    {
     "data": {
      "application/vnd.jupyter.widget-view+json": {
       "model_id": "e06e6dc6d7024175aba0869e39dbbdb2",
       "version_major": 2,
       "version_minor": 0
      },
      "text/plain": [
       "HBox(children=(FloatProgress(value=0.0, max=3.0), HTML(value='')))"
      ]
     },
     "metadata": {},
     "output_type": "display_data"
    },
    {
     "name": "stdout",
     "output_type": "stream",
     "text": [
      "\n"
     ]
    },
    {
     "data": {
      "application/vnd.jupyter.widget-view+json": {
       "model_id": "bdafd36413c644b99fb76806b249e881",
       "version_major": 2,
       "version_minor": 0
      },
      "text/plain": [
       "HBox(children=(FloatProgress(value=0.0, max=19.0), HTML(value='')))"
      ]
     },
     "metadata": {},
     "output_type": "display_data"
    },
    {
     "name": "stdout",
     "output_type": "stream",
     "text": [
      "\n"
     ]
    },
    {
     "data": {
      "application/vnd.jupyter.widget-view+json": {
       "model_id": "a38f76f6049a4b9ca9f6a69f8683fcdd",
       "version_major": 2,
       "version_minor": 0
      },
      "text/plain": [
       "HBox(children=(FloatProgress(value=0.0, max=19.0), HTML(value='')))"
      ]
     },
     "metadata": {},
     "output_type": "display_data"
    },
    {
     "name": "stdout",
     "output_type": "stream",
     "text": [
      "\n"
     ]
    },
    {
     "data": {
      "application/vnd.jupyter.widget-view+json": {
       "model_id": "c1a57778e49045538f7bc1770e5eb1dd",
       "version_major": 2,
       "version_minor": 0
      },
      "text/plain": [
       "HBox(children=(FloatProgress(value=0.0, max=14.0), HTML(value='')))"
      ]
     },
     "metadata": {},
     "output_type": "display_data"
    },
    {
     "name": "stdout",
     "output_type": "stream",
     "text": [
      "\n"
     ]
    },
    {
     "data": {
      "application/vnd.jupyter.widget-view+json": {
       "model_id": "a2add7b095fa4116a6da6eeee5ce66fd",
       "version_major": 2,
       "version_minor": 0
      },
      "text/plain": [
       "HBox(children=(FloatProgress(value=0.0, max=19.0), HTML(value='')))"
      ]
     },
     "metadata": {},
     "output_type": "display_data"
    },
    {
     "name": "stdout",
     "output_type": "stream",
     "text": [
      "\n"
     ]
    },
    {
     "data": {
      "application/vnd.jupyter.widget-view+json": {
       "model_id": "cb58d494fb5443f6a1f293a9e5cb7f07",
       "version_major": 2,
       "version_minor": 0
      },
      "text/plain": [
       "HBox(children=(FloatProgress(value=0.0, max=19.0), HTML(value='')))"
      ]
     },
     "metadata": {},
     "output_type": "display_data"
    },
    {
     "name": "stdout",
     "output_type": "stream",
     "text": [
      "\n"
     ]
    },
    {
     "data": {
      "application/vnd.jupyter.widget-view+json": {
       "model_id": "15266db450a24d7099c23c0e8b09d21a",
       "version_major": 2,
       "version_minor": 0
      },
      "text/plain": [
       "HBox(children=(FloatProgress(value=0.0, max=15.0), HTML(value='')))"
      ]
     },
     "metadata": {},
     "output_type": "display_data"
    },
    {
     "name": "stdout",
     "output_type": "stream",
     "text": [
      "\n"
     ]
    },
    {
     "data": {
      "application/vnd.jupyter.widget-view+json": {
       "model_id": "e8ddd9fa9ec44f4baa3ee1de095a601f",
       "version_major": 2,
       "version_minor": 0
      },
      "text/plain": [
       "HBox(children=(FloatProgress(value=0.0, max=19.0), HTML(value='')))"
      ]
     },
     "metadata": {},
     "output_type": "display_data"
    },
    {
     "name": "stdout",
     "output_type": "stream",
     "text": [
      "\n"
     ]
    },
    {
     "data": {
      "application/vnd.jupyter.widget-view+json": {
       "model_id": "924487fe674040fd95d3a721ee46c916",
       "version_major": 2,
       "version_minor": 0
      },
      "text/plain": [
       "HBox(children=(FloatProgress(value=0.0, max=19.0), HTML(value='')))"
      ]
     },
     "metadata": {},
     "output_type": "display_data"
    },
    {
     "name": "stdout",
     "output_type": "stream",
     "text": [
      "\n"
     ]
    },
    {
     "data": {
      "application/vnd.jupyter.widget-view+json": {
       "model_id": "d4091cea5db24e86a672679ae0252100",
       "version_major": 2,
       "version_minor": 0
      },
      "text/plain": [
       "HBox(children=(FloatProgress(value=0.0, max=7.0), HTML(value='')))"
      ]
     },
     "metadata": {},
     "output_type": "display_data"
    },
    {
     "name": "stdout",
     "output_type": "stream",
     "text": [
      "\n"
     ]
    },
    {
     "data": {
      "application/vnd.jupyter.widget-view+json": {
       "model_id": "16108f04b43f4e53a4cacba348e8e42f",
       "version_major": 2,
       "version_minor": 0
      },
      "text/plain": [
       "HBox(children=(FloatProgress(value=0.0, max=6.0), HTML(value='')))"
      ]
     },
     "metadata": {},
     "output_type": "display_data"
    },
    {
     "name": "stdout",
     "output_type": "stream",
     "text": [
      "\n"
     ]
    },
    {
     "data": {
      "application/vnd.jupyter.widget-view+json": {
       "model_id": "0c097e1123534ae9b33804c13a34ded5",
       "version_major": 2,
       "version_minor": 0
      },
      "text/plain": [
       "HBox(children=(FloatProgress(value=0.0, max=19.0), HTML(value='')))"
      ]
     },
     "metadata": {},
     "output_type": "display_data"
    },
    {
     "name": "stdout",
     "output_type": "stream",
     "text": [
      "\n"
     ]
    },
    {
     "data": {
      "application/vnd.jupyter.widget-view+json": {
       "model_id": "1def26d3399b4464a8e1ff157253b09e",
       "version_major": 2,
       "version_minor": 0
      },
      "text/plain": [
       "HBox(children=(FloatProgress(value=0.0, max=19.0), HTML(value='')))"
      ]
     },
     "metadata": {},
     "output_type": "display_data"
    },
    {
     "name": "stdout",
     "output_type": "stream",
     "text": [
      "\n"
     ]
    },
    {
     "data": {
      "application/vnd.jupyter.widget-view+json": {
       "model_id": "8911a31a73244d23b2a34ba9fc8b2c73",
       "version_major": 2,
       "version_minor": 0
      },
      "text/plain": [
       "HBox(children=(FloatProgress(value=0.0, max=18.0), HTML(value='')))"
      ]
     },
     "metadata": {},
     "output_type": "display_data"
    },
    {
     "name": "stdout",
     "output_type": "stream",
     "text": [
      "\n",
      "\n",
      "Wall time: 3min 26s\n"
     ]
    }
   ],
   "source": [
    "%%time\n",
    "\n",
    "results_L = []\n",
    "# используем метрику\n",
    "for metric in tqdm_notebook(['roc_auc', 'f1', 'accuracy', 'precision', 'recall']):\n",
    "    # отбираем признаки\n",
    "    best_score, best_features = _select_features(lgb_clf, X_TR, Y_TR, cv = rskf5, metric=metric)    \n",
    "    results_L.append((metric, best_score, best_features))\n",
    "results_L = np.array(results_L)[np.argsort([r[1] for r in results_L])[::-1]]"
   ]
  },
  {
   "cell_type": "code",
   "execution_count": 27,
   "metadata": {},
   "outputs": [
    {
     "name": "stdout",
     "output_type": "stream",
     "text": [
      "метрика    | валидация | число использованных признаков | всего признаков\n",
      "---------------------------------------------------------------------------\n",
      "recall     | 1.00000   | 1                              | 19\n",
      "roc_auc    | 0.99758   | 16                             | 19\n",
      "f1         | 0.99245   | 5                              | 19\n",
      "accuracy   | 0.98860   | 4                              | 19\n",
      "precision  | 0.98822   | 13                             | 19\n"
     ]
    }
   ],
   "source": [
    "print('{:<10} | {} | {} | {}'.format('метрика', 'валидация', 'число использованных признаков', 'всего признаков'))\n",
    "print('---------------------------------------------------------------------------')\n",
    "for el in results_L:\n",
    "    print('{:<10} | {:<9.5f} | {:<30} | {}'.format(el[0], el[1], len(el[2]), X_TR.shape[1]))"
   ]
  },
  {
   "cell_type": "code",
   "execution_count": 28,
   "metadata": {},
   "outputs": [
    {
     "data": {
      "application/vnd.jupyter.widget-view+json": {
       "model_id": "3f536155ff9243d19a043429a0379cca",
       "version_major": 2,
       "version_minor": 0
      },
      "text/plain": [
       "HBox(children=(FloatProgress(value=0.0, max=5.0), HTML(value='')))"
      ]
     },
     "metadata": {},
     "output_type": "display_data"
    },
    {
     "name": "stdout",
     "output_type": "stream",
     "text": [
      "\n"
     ]
    }
   ],
   "source": [
    "from sklearn.metrics import confusion_matrix\n",
    "predictions_df = pd.DataFrame(index = X_TR.index)\n",
    "for el in tqdm_notebook(results_L):\n",
    "    if el[1]!='roc_auc':        \n",
    "        for tr_idx,val_idx in rskf5.split(X_TR, Y_TR):    \n",
    "            xtr, xval = X_TR.iloc[tr_idx, el[2]], X_TR.iloc[val_idx, el[2]]\n",
    "            ytr, yval = Y_TR.iloc[tr_idx], Y_TR.iloc[val_idx]\n",
    "            lgb_clf.fit(xtr, ytr)\n",
    "            ypred = lgb_clf.predict(xval)\n",
    "            predictions_df.loc[X_TR.index[val_idx], 'optimize_'+el[0]] = ypred\n",
    "            \n",
    "    else:        \n",
    "        for tr_idx,val_idx in rskf5.split(X_TR, Y_TR):    \n",
    "            xtr, xval = X_TR.iloc[tr_idx, el[2]], X_TR.iloc[val_idx, el[2]]\n",
    "            ytr, yval = Y_TR.iloc[tr_idx], Y_TR.iloc[val_idx]\n",
    "            lgb_clf.fit(xtr, ytr)\n",
    "            ypredprob = lgb_clf.predict_proba(xval)[:, 1]\n",
    "            predictions_df.loc[X_TR.index[val_idx], 'optimize_auc'] = ypredprob"
   ]
  },
  {
   "cell_type": "code",
   "execution_count": 29,
   "metadata": {},
   "outputs": [
    {
     "data": {
      "text/plain": [
       "optimize_recall       1\n",
       "optimize_roc_auc      2\n",
       "optimize_f1           2\n",
       "optimize_accuracy     2\n",
       "optimize_precision    2\n",
       "dtype: int64"
      ]
     },
     "execution_count": 29,
     "metadata": {},
     "output_type": "execute_result"
    }
   ],
   "source": [
    "predictions_df.nunique()"
   ]
  },
  {
   "cell_type": "code",
   "execution_count": 30,
   "metadata": {},
   "outputs": [],
   "source": [
    "# оставляем полезные метрики\n",
    "predictions_df = predictions_df.drop(['optimize_recall', 'optimize_roc_auc'],1)"
   ]
  },
  {
   "cell_type": "code",
   "execution_count": 31,
   "metadata": {},
   "outputs": [],
   "source": [
    "# 0 - кредит одобрен, 1- кредит отклонен\n",
    "X_TR[predictions_df.columns] = predictions_df"
   ]
  },
  {
   "cell_type": "code",
   "execution_count": 32,
   "metadata": {},
   "outputs": [],
   "source": [
    "report_df = X_TR[['cost_all', 'loan_cost_all']+predictions_df.columns.tolist()]\n",
    "report_df['expert'] = Y_TR\n",
    "\n",
    "# кредит одобрили & выплат не было \n",
    "report_df2 = report_df[(report_df['expert'] == 0) & (report_df['cost_all'].isna())]"
   ]
  },
  {
   "cell_type": "code",
   "execution_count": 33,
   "metadata": {},
   "outputs": [
    {
     "name": "stdout",
     "output_type": "stream",
     "text": [
      "оптимизация f1, убыток = 3932\n",
      "оптимизация accuracy, убыток = 3905\n",
      "оптимизация precision, убыток = 3343\n"
     ]
    }
   ],
   "source": [
    "print('оптимизация f1, убыток = {:.0f}'.format(report_df2[report_df2['optimize_f1'] == 1]['loan_cost_all'].sum()))\n",
    "print('оптимизация accuracy, убыток = {:.0f}'.format(report_df2[report_df2['optimize_accuracy'] == 1]['loan_cost_all'].sum()))\n",
    "print('оптимизация precision, убыток = {:.0f}'.format(report_df2[report_df2['optimize_precision'] == 1]['loan_cost_all'].sum()))\n",
    "\n"
   ]
  },
  {
   "cell_type": "markdown",
   "metadata": {},
   "source": [
    "### precision - наилучшая метрика"
   ]
  },
  {
   "cell_type": "code",
   "execution_count": 83,
   "metadata": {},
   "outputs": [
    {
     "name": "stdout",
     "output_type": "stream",
     "text": [
      "Средние разные в dayofweek на уровне значимости 95%\n"
     ]
    }
   ],
   "source": [
    "np.random.seed(SEED)\n",
    "N_SAMPLES, SAMPLE_SIZE, ALPHA = 100, 100, .05\n",
    "for col in X_TR.columns:\n",
    "    val1 = X_TR[col][Y_TR==1].values\n",
    "    val0 = X_TR[col][Y_TR!=1].values    \n",
    "    bt_means_1 = np.mean(np.random.choice(val1, (N_SAMPLES, SAMPLE_SIZE)), 1)\n",
    "    bt_means_2 = np.mean(np.random.choice(val0, (N_SAMPLES, SAMPLE_SIZE)), 1)\n",
    "    alpha = stats.ttest_ind(bt_means_1, bt_means_2)[1]\n",
    "    if alpha>ALPHA:\n",
    "        print('Средние разные в {} на уровне значимости {:.0%}'.format(col, 1-ALPHA))\n",
    "        "
   ]
  },
  {
   "cell_type": "code",
   "execution_count": 84,
   "metadata": {},
   "outputs": [
    {
     "data": {
      "text/plain": [
       "True"
      ]
     },
     "execution_count": 84,
     "metadata": {},
     "output_type": "execute_result"
    }
   ],
   "source": [
    "'dayofweek' in X_TR.columns[results_L[-1][2]]"
   ]
  },
  {
   "cell_type": "code",
   "execution_count": 85,
   "metadata": {},
   "outputs": [],
   "source": [
    "import category_encoders as ce\n",
    "from sklearn.model_selection import KFold\n",
    "to_enc = 'dayofweek'\n",
    "\n",
    "_X_TR = X_TR.iloc[:, results_L[-1][2]]\n",
    "_X_HOLDOUT = X_HOLDOUT[_X_TR.columns]\n",
    "df_c = df_c[_X_TR.columns]\n",
    "\n",
    "encoder1 = ce.TargetEncoder(min_samples_leaf=5,cols= ['dayofweek'])\n",
    "encoder2 = ce.CatBoostEncoder(cols= ['dayofweek'])"
   ]
  },
  {
   "cell_type": "code",
   "execution_count": 86,
   "metadata": {},
   "outputs": [],
   "source": [
    "best_score = cross_validate(lgb_clf, _X_TR, Y_TR, scoring ='precision', cv = rskf5)['test_score'].mean()"
   ]
  },
  {
   "cell_type": "code",
   "execution_count": 87,
   "metadata": {},
   "outputs": [],
   "source": [
    "lgb_clf.fit(_X_TR, Y_TR)\n",
    "best_holdout = precision_score(Y_HOLDOUT, lgb_clf.predict(_X_HOLDOUT))"
   ]
  },
  {
   "cell_type": "code",
   "execution_count": null,
   "metadata": {},
   "outputs": [],
   "source": []
  },
  {
   "cell_type": "code",
   "execution_count": 88,
   "metadata": {},
   "outputs": [
    {
     "data": {
      "application/vnd.jupyter.widget-view+json": {
       "model_id": "87562f9798654540ae53df7006ffd5fb",
       "version_major": 2,
       "version_minor": 0
      },
      "text/plain": [
       "HBox(children=(FloatProgress(value=0.0, max=6.0), HTML(value='')))"
      ]
     },
     "metadata": {},
     "output_type": "display_data"
    },
    {
     "name": "stdout",
     "output_type": "stream",
     "text": [
      "\n"
     ]
    }
   ],
   "source": [
    "encs_tr_L, enc_holdout_L, enc_full_L = [], [], []\n",
    "for nfolds in tqdm_notebook([3, 5, 7, 9, 11, 20]):\n",
    "    \n",
    "    encs_tr = pd.DataFrame(index = Y_TR.index, columns = ['enc1', 'enc2'])\n",
    "    encs_holdout = pd.DataFrame(index = Y_HOLDOUT.index, columns = ['enc1', 'enc2']).fillna(0.0)\n",
    "    encs_full = pd.DataFrame(index = df_c.index, columns = ['enc1', 'enc2']).fillna(0.0)\n",
    "    for tr_idx, val_idx in KFold(nfolds, random_state = SEED).split(X_TR, Y_TR):\n",
    "\n",
    "        encoder1.fit(_X_TR.iloc[tr_idx], Y_TR.iloc[tr_idx])\n",
    "        encoder2.fit(_X_TR.iloc[tr_idx], Y_TR.iloc[tr_idx])\n",
    "        \n",
    "        encs_tr.loc[_X_TR.iloc[val_idx].index, 'enc1'] = encoder1.transform(_X_TR.iloc[val_idx])[to_enc].values\n",
    "        encs_tr.loc[_X_TR.iloc[val_idx].index, 'enc2'] = encoder2.transform(_X_TR.iloc[val_idx])[to_enc].values\n",
    "\n",
    "        encs_holdout.loc[_X_HOLDOUT.index, 'enc1'] += encoder1.transform(_X_HOLDOUT)[to_enc].values / nfolds\n",
    "        encs_full.loc[df_c.index, 'enc1'] += encoder1.transform(df_c)[to_enc] / nfolds\n",
    "\n",
    "        encs_holdout.loc[_X_HOLDOUT.index, 'enc2'] += encoder2.transform(_X_HOLDOUT)[to_enc].values   / nfolds\n",
    "        encs_full.loc[df_c.index, 'enc2'] += encoder2.transform(df_c)[to_enc] / nfolds\n",
    "    \n",
    "    \n",
    "    encs_tr_L.append(encs_tr)\n",
    "    enc_holdout_L.append(encs_holdout)\n",
    "    enc_full_L.append(encs_full)"
   ]
  },
  {
   "cell_type": "code",
   "execution_count": 89,
   "metadata": {
    "scrolled": false
   },
   "outputs": [
    {
     "data": {
      "application/vnd.jupyter.widget-view+json": {
       "model_id": "b91dcdf6f0ba4da0ad377cd34a833953",
       "version_major": 2,
       "version_minor": 0
      },
      "text/plain": [
       "HBox(children=(FloatProgress(value=0.0, max=6.0), HTML(value='')))"
      ]
     },
     "metadata": {},
     "output_type": "display_data"
    },
    {
     "data": {
      "application/vnd.jupyter.widget-view+json": {
       "model_id": "d3e9df6184994a5385378857400128fd",
       "version_major": 2,
       "version_minor": 0
      },
      "text/plain": [
       "HBox(children=(FloatProgress(value=0.0, max=15.0), HTML(value='')))"
      ]
     },
     "metadata": {},
     "output_type": "display_data"
    },
    {
     "name": "stdout",
     "output_type": "stream",
     "text": [
      "\n"
     ]
    },
    {
     "data": {
      "application/vnd.jupyter.widget-view+json": {
       "model_id": "68e7cc1ffa014affb9d87530a9852004",
       "version_major": 2,
       "version_minor": 0
      },
      "text/plain": [
       "HBox(children=(FloatProgress(value=0.0, max=15.0), HTML(value='')))"
      ]
     },
     "metadata": {},
     "output_type": "display_data"
    },
    {
     "name": "stdout",
     "output_type": "stream",
     "text": [
      "\n"
     ]
    },
    {
     "data": {
      "application/vnd.jupyter.widget-view+json": {
       "model_id": "dd26866d17274409aca18d102136da88",
       "version_major": 2,
       "version_minor": 0
      },
      "text/plain": [
       "HBox(children=(FloatProgress(value=0.0, max=5.0), HTML(value='')))"
      ]
     },
     "metadata": {},
     "output_type": "display_data"
    },
    {
     "name": "stdout",
     "output_type": "stream",
     "text": [
      "\n"
     ]
    },
    {
     "data": {
      "application/vnd.jupyter.widget-view+json": {
       "model_id": "099ed086432b484bb8b264e90c9fb3cd",
       "version_major": 2,
       "version_minor": 0
      },
      "text/plain": [
       "HBox(children=(FloatProgress(value=0.0, max=3.0), HTML(value='')))"
      ]
     },
     "metadata": {},
     "output_type": "display_data"
    },
    {
     "name": "stdout",
     "output_type": "stream",
     "text": [
      "\n"
     ]
    },
    {
     "data": {
      "application/vnd.jupyter.widget-view+json": {
       "model_id": "4b1f1c44344a45e3a0818fa0dec4d420",
       "version_major": 2,
       "version_minor": 0
      },
      "text/plain": [
       "HBox(children=(FloatProgress(value=0.0, max=2.0), HTML(value='')))"
      ]
     },
     "metadata": {},
     "output_type": "display_data"
    },
    {
     "name": "stdout",
     "output_type": "stream",
     "text": [
      "\n"
     ]
    },
    {
     "data": {
      "application/vnd.jupyter.widget-view+json": {
       "model_id": "22e1841065dd4e1e92c053086c584702",
       "version_major": 2,
       "version_minor": 0
      },
      "text/plain": [
       "HBox(children=(FloatProgress(value=0.0, max=15.0), HTML(value='')))"
      ]
     },
     "metadata": {},
     "output_type": "display_data"
    },
    {
     "name": "stdout",
     "output_type": "stream",
     "text": [
      "\n"
     ]
    },
    {
     "data": {
      "application/vnd.jupyter.widget-view+json": {
       "model_id": "0a3f97b18ee446d9b53d45d9cf4518f6",
       "version_major": 2,
       "version_minor": 0
      },
      "text/plain": [
       "HBox(children=(FloatProgress(value=0.0, max=15.0), HTML(value='')))"
      ]
     },
     "metadata": {},
     "output_type": "display_data"
    },
    {
     "name": "stdout",
     "output_type": "stream",
     "text": [
      "\n"
     ]
    },
    {
     "data": {
      "application/vnd.jupyter.widget-view+json": {
       "model_id": "87b7680bfc4347b89fa5b5798e642e2f",
       "version_major": 2,
       "version_minor": 0
      },
      "text/plain": [
       "HBox(children=(FloatProgress(value=0.0, max=5.0), HTML(value='')))"
      ]
     },
     "metadata": {},
     "output_type": "display_data"
    },
    {
     "name": "stdout",
     "output_type": "stream",
     "text": [
      "\n"
     ]
    },
    {
     "data": {
      "application/vnd.jupyter.widget-view+json": {
       "model_id": "ea3efa043fed4a3fa211967540458626",
       "version_major": 2,
       "version_minor": 0
      },
      "text/plain": [
       "HBox(children=(FloatProgress(value=0.0, max=3.0), HTML(value='')))"
      ]
     },
     "metadata": {},
     "output_type": "display_data"
    },
    {
     "name": "stdout",
     "output_type": "stream",
     "text": [
      "\n"
     ]
    },
    {
     "data": {
      "application/vnd.jupyter.widget-view+json": {
       "model_id": "8e9feedcac884e18ac894d0a85642429",
       "version_major": 2,
       "version_minor": 0
      },
      "text/plain": [
       "HBox(children=(FloatProgress(value=0.0, max=2.0), HTML(value='')))"
      ]
     },
     "metadata": {},
     "output_type": "display_data"
    },
    {
     "name": "stdout",
     "output_type": "stream",
     "text": [
      "\n"
     ]
    },
    {
     "data": {
      "application/vnd.jupyter.widget-view+json": {
       "model_id": "c1049d851aef47568aa8abe8851e5262",
       "version_major": 2,
       "version_minor": 0
      },
      "text/plain": [
       "HBox(children=(FloatProgress(value=0.0, max=15.0), HTML(value='')))"
      ]
     },
     "metadata": {},
     "output_type": "display_data"
    },
    {
     "name": "stdout",
     "output_type": "stream",
     "text": [
      "\n"
     ]
    },
    {
     "data": {
      "application/vnd.jupyter.widget-view+json": {
       "model_id": "092d74ea8d474322bef5701a0177d225",
       "version_major": 2,
       "version_minor": 0
      },
      "text/plain": [
       "HBox(children=(FloatProgress(value=0.0, max=15.0), HTML(value='')))"
      ]
     },
     "metadata": {},
     "output_type": "display_data"
    },
    {
     "name": "stdout",
     "output_type": "stream",
     "text": [
      "\n"
     ]
    },
    {
     "data": {
      "application/vnd.jupyter.widget-view+json": {
       "model_id": "7c8d741b2cb041d69359b8387ff47995",
       "version_major": 2,
       "version_minor": 0
      },
      "text/plain": [
       "HBox(children=(FloatProgress(value=0.0, max=5.0), HTML(value='')))"
      ]
     },
     "metadata": {},
     "output_type": "display_data"
    },
    {
     "name": "stdout",
     "output_type": "stream",
     "text": [
      "\n"
     ]
    },
    {
     "data": {
      "application/vnd.jupyter.widget-view+json": {
       "model_id": "846ae39036494c429fcbc42d32acff38",
       "version_major": 2,
       "version_minor": 0
      },
      "text/plain": [
       "HBox(children=(FloatProgress(value=0.0, max=3.0), HTML(value='')))"
      ]
     },
     "metadata": {},
     "output_type": "display_data"
    },
    {
     "name": "stdout",
     "output_type": "stream",
     "text": [
      "\n"
     ]
    },
    {
     "data": {
      "application/vnd.jupyter.widget-view+json": {
       "model_id": "f2356108bb274a52879ea42f94f90eb6",
       "version_major": 2,
       "version_minor": 0
      },
      "text/plain": [
       "HBox(children=(FloatProgress(value=0.0, max=2.0), HTML(value='')))"
      ]
     },
     "metadata": {},
     "output_type": "display_data"
    },
    {
     "name": "stdout",
     "output_type": "stream",
     "text": [
      "\n"
     ]
    },
    {
     "data": {
      "application/vnd.jupyter.widget-view+json": {
       "model_id": "61ea8fb983bb4415b1a418b26b1f639f",
       "version_major": 2,
       "version_minor": 0
      },
      "text/plain": [
       "HBox(children=(FloatProgress(value=0.0, max=15.0), HTML(value='')))"
      ]
     },
     "metadata": {},
     "output_type": "display_data"
    },
    {
     "name": "stdout",
     "output_type": "stream",
     "text": [
      "\n"
     ]
    },
    {
     "data": {
      "application/vnd.jupyter.widget-view+json": {
       "model_id": "d9f275c838634826889d6c6e3b7fcd08",
       "version_major": 2,
       "version_minor": 0
      },
      "text/plain": [
       "HBox(children=(FloatProgress(value=0.0, max=15.0), HTML(value='')))"
      ]
     },
     "metadata": {},
     "output_type": "display_data"
    },
    {
     "name": "stdout",
     "output_type": "stream",
     "text": [
      "\n"
     ]
    },
    {
     "data": {
      "application/vnd.jupyter.widget-view+json": {
       "model_id": "bfd1ab11121440698331ba0a8c9b7479",
       "version_major": 2,
       "version_minor": 0
      },
      "text/plain": [
       "HBox(children=(FloatProgress(value=0.0, max=5.0), HTML(value='')))"
      ]
     },
     "metadata": {},
     "output_type": "display_data"
    },
    {
     "name": "stdout",
     "output_type": "stream",
     "text": [
      "\n"
     ]
    },
    {
     "data": {
      "application/vnd.jupyter.widget-view+json": {
       "model_id": "cd50fad0e7924e7bba392fcbe19a5a7f",
       "version_major": 2,
       "version_minor": 0
      },
      "text/plain": [
       "HBox(children=(FloatProgress(value=0.0, max=3.0), HTML(value='')))"
      ]
     },
     "metadata": {},
     "output_type": "display_data"
    },
    {
     "name": "stdout",
     "output_type": "stream",
     "text": [
      "\n"
     ]
    },
    {
     "data": {
      "application/vnd.jupyter.widget-view+json": {
       "model_id": "8ca64169a67b483e885ceda8e4fad2af",
       "version_major": 2,
       "version_minor": 0
      },
      "text/plain": [
       "HBox(children=(FloatProgress(value=0.0, max=2.0), HTML(value='')))"
      ]
     },
     "metadata": {},
     "output_type": "display_data"
    },
    {
     "name": "stdout",
     "output_type": "stream",
     "text": [
      "\n"
     ]
    },
    {
     "data": {
      "application/vnd.jupyter.widget-view+json": {
       "model_id": "336867cd8a1e4d0d860a15a5d82ce12a",
       "version_major": 2,
       "version_minor": 0
      },
      "text/plain": [
       "HBox(children=(FloatProgress(value=0.0, max=15.0), HTML(value='')))"
      ]
     },
     "metadata": {},
     "output_type": "display_data"
    },
    {
     "name": "stdout",
     "output_type": "stream",
     "text": [
      "\n"
     ]
    },
    {
     "data": {
      "application/vnd.jupyter.widget-view+json": {
       "model_id": "a158911931984e3ba5d5fbbf01772e06",
       "version_major": 2,
       "version_minor": 0
      },
      "text/plain": [
       "HBox(children=(FloatProgress(value=0.0, max=15.0), HTML(value='')))"
      ]
     },
     "metadata": {},
     "output_type": "display_data"
    },
    {
     "name": "stdout",
     "output_type": "stream",
     "text": [
      "\n"
     ]
    },
    {
     "data": {
      "application/vnd.jupyter.widget-view+json": {
       "model_id": "ae55fc18a5404d268adc6e9550c0470a",
       "version_major": 2,
       "version_minor": 0
      },
      "text/plain": [
       "HBox(children=(FloatProgress(value=0.0, max=5.0), HTML(value='')))"
      ]
     },
     "metadata": {},
     "output_type": "display_data"
    },
    {
     "name": "stdout",
     "output_type": "stream",
     "text": [
      "\n"
     ]
    },
    {
     "data": {
      "application/vnd.jupyter.widget-view+json": {
       "model_id": "2c9fc9a2b668458b8d45848269e5f780",
       "version_major": 2,
       "version_minor": 0
      },
      "text/plain": [
       "HBox(children=(FloatProgress(value=0.0, max=3.0), HTML(value='')))"
      ]
     },
     "metadata": {},
     "output_type": "display_data"
    },
    {
     "name": "stdout",
     "output_type": "stream",
     "text": [
      "\n"
     ]
    },
    {
     "data": {
      "application/vnd.jupyter.widget-view+json": {
       "model_id": "9aec75c0b09a4e66b7a55f34600c7054",
       "version_major": 2,
       "version_minor": 0
      },
      "text/plain": [
       "HBox(children=(FloatProgress(value=0.0, max=2.0), HTML(value='')))"
      ]
     },
     "metadata": {},
     "output_type": "display_data"
    },
    {
     "name": "stdout",
     "output_type": "stream",
     "text": [
      "\n"
     ]
    },
    {
     "data": {
      "application/vnd.jupyter.widget-view+json": {
       "model_id": "d82d9dc4c6504a308130195595c56eb3",
       "version_major": 2,
       "version_minor": 0
      },
      "text/plain": [
       "HBox(children=(FloatProgress(value=0.0, max=15.0), HTML(value='')))"
      ]
     },
     "metadata": {},
     "output_type": "display_data"
    },
    {
     "name": "stdout",
     "output_type": "stream",
     "text": [
      "\n"
     ]
    },
    {
     "data": {
      "application/vnd.jupyter.widget-view+json": {
       "model_id": "85f8310cea414fd2a0482f12d10c31fe",
       "version_major": 2,
       "version_minor": 0
      },
      "text/plain": [
       "HBox(children=(FloatProgress(value=0.0, max=15.0), HTML(value='')))"
      ]
     },
     "metadata": {},
     "output_type": "display_data"
    },
    {
     "name": "stdout",
     "output_type": "stream",
     "text": [
      "\n"
     ]
    },
    {
     "data": {
      "application/vnd.jupyter.widget-view+json": {
       "model_id": "261bb7e64e8c4d2ba32432820c5415a3",
       "version_major": 2,
       "version_minor": 0
      },
      "text/plain": [
       "HBox(children=(FloatProgress(value=0.0, max=5.0), HTML(value='')))"
      ]
     },
     "metadata": {},
     "output_type": "display_data"
    },
    {
     "name": "stdout",
     "output_type": "stream",
     "text": [
      "\n"
     ]
    },
    {
     "data": {
      "application/vnd.jupyter.widget-view+json": {
       "model_id": "6809f8dc01f34951a68b9a6fede08d6c",
       "version_major": 2,
       "version_minor": 0
      },
      "text/plain": [
       "HBox(children=(FloatProgress(value=0.0, max=3.0), HTML(value='')))"
      ]
     },
     "metadata": {},
     "output_type": "display_data"
    },
    {
     "name": "stdout",
     "output_type": "stream",
     "text": [
      "\n"
     ]
    },
    {
     "data": {
      "application/vnd.jupyter.widget-view+json": {
       "model_id": "18427ef0289d4ac7871b247fea5ff746",
       "version_major": 2,
       "version_minor": 0
      },
      "text/plain": [
       "HBox(children=(FloatProgress(value=0.0, max=2.0), HTML(value='')))"
      ]
     },
     "metadata": {},
     "output_type": "display_data"
    },
    {
     "name": "stdout",
     "output_type": "stream",
     "text": [
      "\n",
      "\n"
     ]
    }
   ],
   "source": [
    "for i in tqdm_notebook(range(len(encs_tr_L))):\n",
    "    \n",
    "    # добавляем кодирования\n",
    "    _X_TR1 = pd.concat([_X_TR, encs_tr_L[i].astype(float)], 1)\n",
    "    _X_HOLDOUT1 = pd.concat([_X_HOLDOUT, enc_holdout_L[i].astype(float)], 1)\n",
    "    _df_c1 = pd.concat([df_c, enc_full_L[i]], 1)\n",
    "    \n",
    "    # отбираем признаки\n",
    "    cv, best_features = _select_features(lgb_clf, _X_TR1, Y_TR, cv = rskf5, metric='precision')   \n",
    "    _X_TR1_selected = _X_TR1.iloc[:, best_features]\n",
    "    _X_HOLDOUT1_selected = _X_HOLDOUT1.iloc[:, best_features]\n",
    "    _df_c1_selected = _df_c1.iloc[:, best_features]\n",
    "    \n",
    "    # получаем метрику на отложенной\n",
    "    lgb_clf.fit(_X_TR1_selected, Y_TR)    \n",
    "    holdout = precision_score(Y_HOLDOUT, lgb_clf.predict(_X_HOLDOUT1_selected))\n",
    "    \n",
    "    if (cv>best_score) & (holdout>best_holdout):\n",
    "        best_score = cv\n",
    "        best_holdout = holdout\n",
    "        best_df = _df_c1_selected\n",
    "        print(best_score, best_holdout)\n",
    "        \n",
    "        "
   ]
  },
  {
   "cell_type": "code",
   "execution_count": 101,
   "metadata": {},
   "outputs": [
    {
     "name": "stdout",
     "output_type": "stream",
     "text": [
      "precision(влидация) = 0.9882214039326757\n",
      "precision(отложенная) = 0.9875562615832671\n"
     ]
    }
   ],
   "source": [
    "print('precision(влидация) = {}'.format(best_score))\n",
    "print('precision(отложенная) = {}'.format(best_holdout))"
   ]
  },
  {
   "cell_type": "code",
   "execution_count": 96,
   "metadata": {},
   "outputs": [],
   "source": [
    "from sklearn.model_selection import GridSearchCV"
   ]
  },
  {
   "cell_type": "code",
   "execution_count": 97,
   "metadata": {},
   "outputs": [],
   "source": [
    "lgb_grid = GridSearchCV(lgb_clf,\\\n",
    "             param_grid = {'n_estimators' : [500], 'learning_rate' :[.05],\\\n",
    "                           'max_depth' : [3, 5, 7, 70, 80, 90],\\\n",
    "                           'num_leaves' : [4, 9, 16, 25, 36, 64, 128],\n",
    "                           'min_child_samples': [20, 50, 100]},\\\n",
    "             scoring = 'precision', cv = rskf5)"
   ]
  },
  {
   "cell_type": "code",
   "execution_count": 107,
   "metadata": {},
   "outputs": [
    {
     "data": {
      "text/plain": [
       "GridSearchCV(cv=RepeatedStratifiedKFold(n_repeats=1, n_splits=5, random_state=13),\n",
       "             estimator=LGBMClassifier(random_state=13),\n",
       "             param_grid={'learning_rate': [0.05],\n",
       "                         'max_depth': [3, 5, 7, 70, 80, 90],\n",
       "                         'min_child_samples': [20, 50, 100],\n",
       "                         'n_estimators': [500],\n",
       "                         'num_leaves': [4, 9, 16, 25, 36, 64, 128]},\n",
       "             scoring='precision')"
      ]
     },
     "execution_count": 107,
     "metadata": {},
     "output_type": "execute_result"
    }
   ],
   "source": [
    "y = df.loc[df_c.index, 'expert']\n",
    "lgb_grid.fit(df_c, y)"
   ]
  },
  {
   "cell_type": "code",
   "execution_count": 110,
   "metadata": {},
   "outputs": [
    {
     "name": "stdout",
     "output_type": "stream",
     "text": [
      "Валидация всего датасета, precision = 0.9880809254621388\n"
     ]
    }
   ],
   "source": [
    "print('Валидация всего датасета, precision = {}'\\\n",
    "      .format(cross_validate(lgb_clf, df_c, y, scoring ='precision', cv = rskf5)['test_score'].mean()))"
   ]
  },
  {
   "cell_type": "code",
   "execution_count": 112,
   "metadata": {},
   "outputs": [
    {
     "name": "stdout",
     "output_type": "stream",
     "text": [
      "Валидация всего датасета(оптимизация гиперпараметров), precision = 0.9905505920183328\n"
     ]
    }
   ],
   "source": [
    "print('Валидация всего датасета(оптимизация гиперпараметров), precision = {}'\\\n",
    "      .format(lgb_grid.best_score_))"
   ]
  },
  {
   "cell_type": "code",
   "execution_count": null,
   "metadata": {},
   "outputs": [],
   "source": []
  },
  {
   "cell_type": "code",
   "execution_count": null,
   "metadata": {},
   "outputs": [],
   "source": []
  },
  {
   "cell_type": "code",
   "execution_count": null,
   "metadata": {},
   "outputs": [],
   "source": []
  },
  {
   "cell_type": "code",
   "execution_count": null,
   "metadata": {},
   "outputs": [],
   "source": []
  },
  {
   "cell_type": "code",
   "execution_count": null,
   "metadata": {},
   "outputs": [],
   "source": []
  }
 ],
 "metadata": {
  "kernelspec": {
   "display_name": "Python 3",
   "language": "python",
   "name": "python3"
  },
  "language_info": {
   "codemirror_mode": {
    "name": "ipython",
    "version": 3
   },
   "file_extension": ".py",
   "mimetype": "text/x-python",
   "name": "python",
   "nbconvert_exporter": "python",
   "pygments_lexer": "ipython3",
   "version": "3.8.3"
  }
 },
 "nbformat": 4,
 "nbformat_minor": 4
}
